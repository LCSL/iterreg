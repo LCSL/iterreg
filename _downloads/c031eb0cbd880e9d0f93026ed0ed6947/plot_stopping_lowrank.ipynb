{
  "cells": [
    {
      "cell_type": "code",
      "execution_count": null,
      "metadata": {
        "collapsed": false
      },
      "outputs": [],
      "source": [
        "%matplotlib inline"
      ]
    },
    {
      "cell_type": "markdown",
      "metadata": {},
      "source": [
        "\n# Plot stopping time for low rank matrix completion\n\nPlot the stopping time for low rank matrix completion.\n"
      ]
    },
    {
      "cell_type": "code",
      "execution_count": null,
      "metadata": {
        "collapsed": false
      },
      "outputs": [],
      "source": [
        "import numpy as np\nimport matplotlib.pyplot as plt\nfrom numpy.linalg import norm\nfrom celer.plot_utils import configure_plt\n\nfrom iterreg.low_rank.solvers import dual_primal_low_rank\n\nconfigure_plt()\n\n\nd = 100\nnp.random.seed(0)\nmask = np.zeros([d, d], dtype=bool)\nidx = np.random.choice(d ** 2, d ** 2 // 5, replace=False)\nmask.flat[idx] = True\n# rank = d // 10\nrank = 5\nY_true = np.random.randn(d, rank) @ np.random.randn(rank, d)\nY_true /= (norm(Y_true, ord=\"fro\") / 20)\nY = Y_true.copy()\n\nY[~mask] = 0\n\nW_star, Theta, _ = dual_primal_low_rank(\n    mask, Y, max_iter=3_000, stop_crit=1e-8, f_store=100, verbose=1)\n\nprint(f\"Feasability of W_star : {norm((Y - W_star)[mask]):.2e}\")\n\nn_deltas = 10\ndeltas = np.linspace(1, 15, num=n_deltas)\n\nnoise = np.random.randn(d, d)\ndistances = dict()\nf_store = 1\n\ndeltas = deltas[3:-1]\n\nfor delta in deltas:\n    print(delta)\n    Y_delta = Y_true + delta * noise / norm(noise)\n    sigma = 1 / norm(Y_delta, ord=2)\n\n    x, theta, dist = dual_primal_low_rank(\n        mask, Y_delta, max_iter=200, sigma=sigma, verbose=False,\n        f_store=f_store, limit=W_star)\n\n    distances[delta] = dist\n\nplt.close('all')\nfig1, ax = plt.subplots(1, 1, constrained_layout=True, figsize=(3.8, 2.2))\nn_points = 100\nfor delta in deltas:\n    x_plt = f_store * np.arange(len(distances[delta]))\n    y_plt = distances[delta] / norm(W_star)\n    ax.semilogy(x_plt[:n_points], y_plt[:n_points],\n                label=r\"$\\delta={:.1f}$\".format(delta))\n\npaper = False\nif paper:\n    plt.ylabel(r'$||X_k - {X}^\\star|| / ||{X}^\\star||$')\n    plt.xlabel(\"iterative regularization iteration $k$\")\nelse:\n    plt.ylabel(r'$||W_k - {W}^\\star|| / ||{W}^\\star||$')\n    plt.legend(loc='upper right', ncol=3, fontsize=16)\n\nplt.show(block=False)\n\n\nif paper:\n    fig1.savefig(\"low_rank_d%d.pdf\" % d)"
      ]
    }
  ],
  "metadata": {
    "kernelspec": {
      "display_name": "Python 3",
      "language": "python",
      "name": "python3"
    },
    "language_info": {
      "codemirror_mode": {
        "name": "ipython",
        "version": 3
      },
      "file_extension": ".py",
      "mimetype": "text/x-python",
      "name": "python",
      "nbconvert_exporter": "python",
      "pygments_lexer": "ipython3",
      "version": "3.8.1"
    }
  },
  "nbformat": 4,
  "nbformat_minor": 0
}