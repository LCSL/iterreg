{
  "cells": [
    {
      "cell_type": "code",
      "execution_count": null,
      "metadata": {
        "collapsed": false
      },
      "outputs": [],
      "source": [
        "%matplotlib inline"
      ]
    },
    {
      "cell_type": "markdown",
      "metadata": {},
      "source": [
        "\n# Plot stopping time for low rank matrix completion\n\nPlot the stopping time for low rank matrix completion.\n"
      ]
    },
    {
      "cell_type": "code",
      "execution_count": null,
      "metadata": {
        "collapsed": false
      },
      "outputs": [],
      "source": [
        "import numpy as np\nimport matplotlib.pyplot as plt\nfrom numpy.linalg import norm\n\nfrom iterreg.low_rank.solvers import dual_primal_low_rank\nfrom iterreg.utils import plot_legend_apart\n\nfrom celer.plot_utils import configure_plt\nconfigure_plt()\n\n\nd = 20\nnp.random.seed(0)\nmask = np.zeros([d, d], dtype=bool)\nidx = np.random.choice(d ** 2, d ** 2 // 5, replace=False)\nmask.flat[idx] = True\n\nY_true = np.random.randn(d, 5) @ np.random.randn(5, d)\nY_true /= (norm(Y_true, ord=\"fro\") / 20)\nY = Y_true.copy()\n\nY[~mask] = 0\n\nW_star, Theta, _ = dual_primal_low_rank(\n    mask, Y, max_iter=20000, f_store=100, verbose=0)\n\n\nn_deltas = 10\ndeltas = np.linspace(1, 15, num=n_deltas)\n\nnoise = np.random.randn(d, d)\ndistances = dict()\nf_store = 1\n\nfor delta in deltas:\n    print(delta)\n    Y_delta = Y + delta * noise / norm(noise)\n    w, theta, dist = dual_primal_low_rank(\n        mask, Y_delta, max_iter=1000, verbose=False, f_store=f_store,\n        limit=W_star)\n\n    distances[delta] = dist\n\nfig1, ax = plt.subplots(1, 1, constrained_layout=True, figsize=(8, 4))\nn_points = 500\nfor delta in deltas[3:-1]:\n    x_plt = f_store * np.arange(len(distances[delta]))\n    y_plt = distances[delta] / norm(W_star)\n    ax.semilogy(x_plt[:n_points], y_plt[:n_points],\n                label=r\"$\\delta={:.1f}$\".format(delta))\nplt.ylabel(r'$||w_k^\\delta - w^\\star|| / ||w^\\star||$')\nplt.xlabel(\"Iteration $k$\")\nplt.legend(loc='upper right', ncol=3, fontsize=16)\nplt.show(block=False)"
      ]
    }
  ],
  "metadata": {
    "kernelspec": {
      "display_name": "Python 3",
      "language": "python",
      "name": "python3"
    },
    "language_info": {
      "codemirror_mode": {
        "name": "ipython",
        "version": 3
      },
      "file_extension": ".py",
      "mimetype": "text/x-python",
      "name": "python",
      "nbconvert_exporter": "python",
      "pygments_lexer": "ipython3",
      "version": "3.8.6"
    }
  },
  "nbformat": 4,
  "nbformat_minor": 0
}