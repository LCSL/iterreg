{
  "cells": [
    {
      "cell_type": "code",
      "execution_count": null,
      "metadata": {
        "collapsed": false
      },
      "outputs": [],
      "source": [
        "%matplotlib inline"
      ]
    },
    {
      "cell_type": "markdown",
      "metadata": {},
      "source": [
        "\n# Plot Chambolle Pock path vs Lasso Tikhonov path\n\nComparison of Tikhonov regularization path (fast LassoCV with the celer\npackage) and iterative regularization (ours).\n"
      ]
    },
    {
      "cell_type": "code",
      "execution_count": null,
      "metadata": {
        "collapsed": false
      },
      "outputs": [],
      "source": [
        "import time\nimport numpy as np\nimport matplotlib.pyplot as plt\n\nfrom celer import LassoCV\nfrom libsvmdata import fetch_libsvm\nfrom sklearn.model_selection import KFold\nfrom joblib import Parallel, delayed\n\nfrom iterreg.sparse import dual_primal\nfrom iterreg.sparse.estimators import SparseIterReg\n\n\ndataset = 'rcv1.binary'\nX, y = fetch_libsvm(dataset)\n# make dataset smaller for faster example:\nX = X[:5000]\ny = y[:5000]\n\nn_splits = 4\nkf = KFold(n_splits=n_splits, shuffle=True, random_state=0)\n\nclf = LassoCV(fit_intercept=False, n_jobs=4, cv=kf, verbose=0)\n\nclf.fit(X, y)\n\nmax_iter = 1_000\nf_store = 5\nstep = 1\nn_points = max_iter // f_store\nmse_dp = np.zeros((n_points, n_splits))\n\nres = Parallel(n_jobs=-1)(delayed(dual_primal)(\n    X[train_idx], y[train_idx], step=step, max_iter=max_iter, f_store=f_store,\n    verbose=False)\n    for train_idx, _ in kf.split(X))\nall_w = np.array([result[-1] for result in res])\n\nfor split, (train_idx, test_idx) in enumerate(kf.split(X)):\n    mse_dp[:, split] = np.mean(\n        (X[test_idx] @ all_w[split].T - y[test_idx, None]) ** 2, axis=0)\n\n\nbest_alpha = clf.alpha_\n\nfig, axarr = plt.subplots(\n    2, 1, sharey=True, figsize=(7, 6), constrained_layout=True)\nax = axarr[0]\nax.semilogx(clf.alphas_ / clf.alphas_[0], clf.mse_path_, ':')\nax.semilogx(clf.alphas_ / clf.alphas_[0], clf.mse_path_.mean(axis=-1), 'k',\n            linewidth=2)\nax.axvline(clf.alpha_ / clf.alphas_[0], linestyle='--', color='k',\n           label=r'best $\\lambda$')\n\nax.set_title(\"Tikhonov regularization\")\nax.set_xticks([1e-2, 1e-1, 1e0])\n\nax.set_xlabel(r'$\\lambda / \\lambda_{\\mathrm{\\max}}$')\nax.set_ylabel('Mean squared error')\nax.legend()\n\nax = axarr[-1]\nax.set_title(\"Iterative regularization\")\nax.plot(f_store * np.arange(n_points), mse_dp, ':')\nax.plot(f_store * np.arange(n_points), mse_dp.mean(axis=-1), 'k')\nbest_iter = f_store * np.argmin(np.mean(mse_dp, axis=-1))\nax.axvline(best_iter, linestyle='--', color='k', label='best iteration')\nax.set_xlabel(\"Chambolle-Pock iteration\")\nax.set_ylabel('Mean squared error')\nax.legend()\n\nplt.show(block=False)"
      ]
    },
    {
      "cell_type": "markdown",
      "metadata": {},
      "source": [
        "Now do the timings a posteriori, as if we kenw the optimal iteration/lambda\n\n"
      ]
    },
    {
      "cell_type": "code",
      "execution_count": null,
      "metadata": {
        "collapsed": false
      },
      "outputs": [],
      "source": [
        "bp = SparseIterReg(max_iter=best_iter, memory=best_iter + 1)\nt0 = time.perf_counter()\nbp.fit(X, y)\ntime_cp = time.perf_counter() - t0\nprint(\"Duration for CP: %.3fs\" % time_cp)\n\n# default grid:\nalpha_max = np.max(np.abs(X.T @ y)) / len(y)\nalphas = np.geomspace(1, 1e-3, 100) * alpha_max\nalphas_stop = alphas[alphas >= best_alpha]\n\n# time if we stopped at best_alpha:\nt0 = time.perf_counter()\nclf = LassoCV(fit_intercept=False, alphas=alphas_stop,\n              verbose=0, cv=4, n_jobs=4).fit(X, y)\ntime_cv = time.perf_counter() - t0\n\n\nprint(\"CP early stop needs %d iter\" % best_iter)\nprint(\"LassoCV optimal lambda: %.2e lambda_max\" %\n      (best_alpha / clf.alphas_[0]))\nprint(\"CP time: %.3f s\" % time_cp)\nprint(\"CV time: %.3f s\" % time_cv)"
      ]
    }
  ],
  "metadata": {
    "kernelspec": {
      "display_name": "Python 3",
      "language": "python",
      "name": "python3"
    },
    "language_info": {
      "codemirror_mode": {
        "name": "ipython",
        "version": 3
      },
      "file_extension": ".py",
      "mimetype": "text/x-python",
      "name": "python",
      "nbconvert_exporter": "python",
      "pygments_lexer": "ipython3",
      "version": "3.8.1"
    }
  },
  "nbformat": 4,
  "nbformat_minor": 0
}