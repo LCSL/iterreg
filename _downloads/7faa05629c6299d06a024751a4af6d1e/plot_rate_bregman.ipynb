{
  "cells": [
    {
      "cell_type": "code",
      "execution_count": null,
      "metadata": {
        "collapsed": false
      },
      "outputs": [],
      "source": [
        "%matplotlib inline"
      ]
    },
    {
      "cell_type": "markdown",
      "metadata": {},
      "source": [
        "\n# Nullity of Bregman guarantees\n\nThis example shows that the Bregman divergence is not enough to control\nconvergence of the iterates: it vanishes as soon as the signs are the same.\n"
      ]
    },
    {
      "cell_type": "code",
      "execution_count": null,
      "metadata": {
        "collapsed": false
      },
      "outputs": [],
      "source": [
        "import numpy as np\nimport matplotlib.pyplot as plt\n\nfrom numpy.linalg import norm\nfrom sklearn.linear_model import LassoLars\n\nfrom iterreg.ell1 import primal_dual\nfrom iterreg.utils import make_sparse_data\n\nfrom celer.plot_utils import configure_plt\nconfigure_plt()\n\n\nn, d = 30, 70\n\nsnr = 10\n\nrho = 0.2\nX, y, x_true = make_sparse_data(n, d, rho=rho, snr=snr)\n\nclf = LassoLars(alpha=1e-20, fit_intercept=False)\nclf.fit(X, y)\nw_bp = clf.coef_\n\nf_store = 50\nmax_iter = 200000\nalgo = \"Primal-Dual\"\n\nw_pd, theta_pd, all_w_pd = primal_dual(\n    X, y, max_iter=max_iter, f_store=f_store, verbose=False)\n\nsubgrad = - X.T @ theta_pd\nassert w_bp[np.abs(subgrad) > 1 - 1e-10].all()\nassert not w_bp[np.abs(subgrad) < 1 - 1e-10].any()\nsubgrad2 = np.sign(w_bp)\n\nbregman = (norm(all_w_pd, ord=1, axis=1) - norm(w_pd, ord=1) -\n           (subgrad2[None, :] * (all_w_pd - w_pd)).sum(axis=1))\nfeasability = norm(X @ all_w_pd.T - y[:, None], axis=0)\nprint(\"Res norm PD %.2e\" % norm(X @ w_pd - y))\nprint(\"Res norm BP %.2e\" % norm(X @ w_bp - y))\n\nplt.close('all')\nfigsize = (10, 3.)\nfig, ax = plt.subplots(1, 1, constrained_layout=True, figsize=figsize)\n\nplot_bregman = True\nn_points = 100\nplt.semilogy(f_store * np.arange(n_points),\n             bregman[:n_points],\n             label=r'$D_{J}^{- \\mathbf{X}^\\top \\theta^\\star}(w_k, w^\\star)$')\nplt.semilogy(f_store * np.arange(n_points),\n             norm(all_w_pd - w_bp, axis=1)[:n_points],\n             label=r'$||w_k - w^\\star||$')\nplt.semilogy(f_store * np.arange(n_points),\n             feasability[:n_points],\n             label=r'$||\\mathbf{X} w_k - \\mathbf{y}||$')\n\nplt.xlabel(\"Iteration $k$\")\nplt.legend(loc='upper right')\nax.set_yticks([1e-1, 1e-6, 1e-11])\nplt.show(block=False)"
      ]
    }
  ],
  "metadata": {
    "kernelspec": {
      "display_name": "Python 3",
      "language": "python",
      "name": "python3"
    },
    "language_info": {
      "codemirror_mode": {
        "name": "ipython",
        "version": 3
      },
      "file_extension": ".py",
      "mimetype": "text/x-python",
      "name": "python",
      "nbconvert_exporter": "python",
      "pygments_lexer": "ipython3",
      "version": "3.8.1"
    }
  },
  "nbformat": 4,
  "nbformat_minor": 0
}