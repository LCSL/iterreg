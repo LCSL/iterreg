{
  "cells": [
    {
      "cell_type": "code",
      "execution_count": null,
      "metadata": {
        "collapsed": false
      },
      "outputs": [],
      "source": [
        "%matplotlib inline"
      ]
    },
    {
      "cell_type": "markdown",
      "metadata": {},
      "source": [
        "\n# Show existence of stopping time\n\nThis is for L1 regression.\n"
      ]
    },
    {
      "cell_type": "code",
      "execution_count": null,
      "metadata": {
        "collapsed": false
      },
      "outputs": [],
      "source": [
        "import numpy as np\nimport matplotlib.pyplot as plt\n\nfrom numpy.linalg import norm\nfrom sklearn.linear_model import LassoLars\nfrom joblib import Parallel, delayed\n\nfrom iterreg.ell1 import dual_primal\nfrom iterreg.utils import make_sparse_data\n\n\nfrom celer.plot_utils import configure_plt\nconfigure_plt()\n\n\nn, d = 200, 500\ns = 75\nrho = 0.2\nnp.random.seed(12)\nX, y, w0 = make_sparse_data(\n    n, d, s=s, rho=rho, snr=None, w_type=\"ones\", normalize=True)\n\nscal = 20 / norm(y)\ny *= scal\n\nclf = LassoLars(alpha=1e-20, fit_intercept=False)\nclf.fit(X, y)\nw_bp = clf.coef_\n\n\ndef wrapper(X, y, delta, max_iter, f_store, rep):\n    print(delta, rep)\n    np.random.seed(rep)\n    noise = np.random.randn(y.shape[0])\n    y_noise = y + delta * noise / norm(noise)\n    all_w = dual_primal(\n        X, y_noise, max_iter=max_iter, f_store=f_store, verbose=False)[-1]\n    return all_w\n\n\nall_wdict = dict()\n\nmax_iter = 5_000\n\nn_deltas = 5\ndeltas = np.linspace(0.1, 6.5, num=n_deltas)\nnp.random.seed(1)\nn_reps = 1\nres = np.zeros([n_deltas, n_reps])\n\nfor i, delta in enumerate(deltas):\n    print(delta)\n    all_w_rep = np.array(Parallel(n_jobs=-1)(delayed(wrapper)(\n        X, y, delta, max_iter, 1, rep)\n        for rep in range(n_reps)))\n    all_wdict[delta] = all_w_rep[:1].copy()\n\n    for rep in range(n_reps):\n        res[i, rep] = np.argmin(norm(all_w_rep[rep] - w_bp, axis=1))\n    del all_w_rep\n\nfig3, ax = plt.subplots(constrained_layout=True, figsize=(9, 4))\nn_points = 400\nfor delta in deltas:\n    x_plt = np.arange(len(all_wdict[delta][0]))\n    y_plt = norm(all_wdict[delta][0] - w_bp, axis=1) / norm(w_bp)\n    ax.semilogy(x_plt[:n_points], y_plt[:n_points],\n                label=r\"$\\delta={:.2f}$\".format(delta))\n\nax.set_ylabel(r'$||w^\\delta_k - w^\\star||/ ||w^\\star||$')\nax.set_xlabel(\"Iteration $k$\")\n\nplt.legend(ncol=3, fontsize=16, loc='upper right')\nplt.show(block=False)"
      ]
    }
  ],
  "metadata": {
    "kernelspec": {
      "display_name": "Python 3",
      "language": "python",
      "name": "python3"
    },
    "language_info": {
      "codemirror_mode": {
        "name": "ipython",
        "version": 3
      },
      "file_extension": ".py",
      "mimetype": "text/x-python",
      "name": "python",
      "nbconvert_exporter": "python",
      "pygments_lexer": "ipython3",
      "version": "3.8.1"
    }
  },
  "nbformat": 4,
  "nbformat_minor": 0
}